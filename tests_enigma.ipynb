{
 "cells": [
  {
   "cell_type": "markdown",
   "metadata": {},
   "source": [
    "# Enigma Tests\n",
    "\n",
    "Here I use the [cryptool enigma](https://www.cryptool.org/en/cto/enigma-step-by-step) as the source of truth for the expected cypher outputs."
   ]
  },
  {
   "cell_type": "code",
   "execution_count": 8,
   "metadata": {},
   "outputs": [],
   "source": [
    "from enigma import Enigma"
   ]
  },
  {
   "cell_type": "markdown",
   "metadata": {},
   "source": [
    "## Eyeball Tests"
   ]
  },
  {
   "cell_type": "code",
   "execution_count": 9,
   "metadata": {},
   "outputs": [
    {
     "name": "stdout",
     "output_type": "stream",
     "text": [
      "plaintext: AAAAAAAAAA\n",
      "cyphertxt: BDZGOWCXLT\n",
      "decrypted: AAAAAAAAAA\n"
     ]
    }
   ],
   "source": [
    "rotors = ['I', 'II', 'III']\n",
    "offsets = [0, 0, 0]\n",
    "rings = [0, 0, 0]\n",
    "reflector = 'B'\n",
    "plugboard = ''\n",
    "\n",
    "e = Enigma(rotors, offsets, rings, reflector, plugboard)\n",
    "d = Enigma(rotors, offsets, rings, reflector, plugboard)\n",
    "\n",
    "plain_text = 'A' * 10\n",
    "cypher_text = e.encrypt(plain_text)\n",
    "decrypted_text = d.decrypt(cypher_text)\n",
    "\n",
    "print(f'plaintext: {plain_text}')\n",
    "print(f'cyphertxt: {cypher_text}')\n",
    "print(f'decrypted: {decrypted_text}')"
   ]
  },
  {
   "cell_type": "code",
   "execution_count": 10,
   "metadata": {},
   "outputs": [
    {
     "name": "stdout",
     "output_type": "stream",
     "text": [
      "<Enigma> offset: AAB [ 0, 0, 1]; rotors: [I  ,II ,III]; notch: [16, 4,21]\n",
      "Forward: A -> |PB| -> A -> |R3| -> C -> |R2| -> D -> |R1| -> F -> |RF| -> S\n",
      "Reverse: S -> |R1| -> S -> |R2| -> E -> |R3| -> B -> |PB| -> B\n",
      "<Enigma> offset: AAC [ 0, 0, 2]; rotors: [I  ,II ,III]; notch: [16, 4,21]\n",
      "Forward: A -> |PB| -> A -> |R3| -> D -> |R2| -> K -> |R1| -> N -> |RF| -> K\n",
      "Reverse: K -> |R1| -> B -> |R2| -> J -> |R3| -> D -> |PB| -> D\n",
      "<Enigma> offset: AAD [ 0, 0, 3]; rotors: [I  ,II ,III]; notch: [16, 4,21]\n",
      "Forward: A -> |PB| -> A -> |R3| -> E -> |R2| -> S -> |R1| -> S -> |RF| -> F\n",
      "Reverse: F -> |R1| -> D -> |R2| -> C -> |R3| -> Z -> |PB| -> Z\n"
     ]
    }
   ],
   "source": [
    "e = Enigma(rotors, offsets, rings, reflector, plugboard)\n",
    "plain_text = 'A' * 3    \n",
    "cypher_text = e.encrypt(plain_text, verbose=True)"
   ]
  },
  {
   "cell_type": "markdown",
   "metadata": {},
   "source": [
    "## Rotor Tests"
   ]
  },
  {
   "cell_type": "code",
   "execution_count": 11,
   "metadata": {},
   "outputs": [],
   "source": [
    "# basic test\n",
    "\n",
    "rotors = ['I', 'II', 'III']\n",
    "offsets = [0, 0, 0]\n",
    "rings = [0, 0, 0]\n",
    "reflector = 'B'\n",
    "plugboard = ''\n",
    "\n",
    "input = 'ABCDEFGHIJKLMNOPQRSTUVWXYZAAAAABBBBBCCCCCDDDDD'\n",
    "expected = 'BJELRQZVJWARXSNBXORSTNCFMEYHCXTQKROODILXPMWUMY'\n",
    "\n",
    "e = Enigma(rotors, offsets, rings, reflector, plugboard)\n",
    "output = e.encrypt(input)\n",
    "\n",
    "assert output == expected"
   ]
  },
  {
   "cell_type": "code",
   "execution_count": 12,
   "metadata": {},
   "outputs": [],
   "source": [
    "# basic test\n",
    "\n",
    "rotors = ['I', 'IV', 'III']\n",
    "offsets = [16, 22, 4]\n",
    "rings = [15, 25, 7]\n",
    "reflector = 'C'\n",
    "plugboard = ''\n",
    "\n",
    "input = 'ABCDEFGHIJKLMNOPQRSTUVWXYZAAAAABBBBBCCCCCDDDDD'\n",
    "expected = 'ECUCWYIRHHVKXAGJPBBGAOGBFPUZSNIMTYMDEEQFMLERXL'\n",
    "\n",
    "e = Enigma(rotors, offsets, rings, reflector, plugboard)\n",
    "output = e.encrypt(input, verbose=False)\n",
    "\n",
    "assert output == expected"
   ]
  },
  {
   "cell_type": "code",
   "execution_count": 13,
   "metadata": {},
   "outputs": [],
   "source": [
    "# long input\n",
    "\n",
    "rotors = ['I', 'II', 'III']\n",
    "offsets = [0, 0, 0]\n",
    "rings = [0, 0, 0]\n",
    "reflector = 'B'\n",
    "plugboard = ''\n",
    "\n",
    "input = 'X' * 500\n",
    "expected = 'GSRPTSYAQRHIMHJLQBKUQTPFIAEREABIPETUGGTCAIOGIJFQUSDATEW' + \\\n",
    "           'EDISNDFHNNKMFSFNGOKSZVENTMLKJAFKDWAZMLMYOFMDYLLOYJSSHTK' + \\\n",
    "           'JSMTWFJACVJBORQIDPNBGOTJOZULZVZYHYGDPWKELVFAKZMGGZZGBVL' + \\\n",
    "           'ONPUOTFZLJVULRSZONLILKDOZELSVNUMMFJFSIWRWNBPWNKODQLTGLO' + \\\n",
    "           'VNUCBAAIPFVNDYWPOYTWAFUDHMRJQZUDBMQCRTIFNDFVIDGZQRCVIUK' + \\\n",
    "           'MFIFZSVTEPIHJNIZNGPCGCHLSIWLNLZVJEEYUBVMJBJOQGLDHPSOILY' + \\\n",
    "           'RSNDOWFPAWVJJPKYVQKUDBFKMASKCTRKZKUDPOPDLKBKSUQBPAMIWPZ' + \\\n",
    "           'IDTHDAEFQDCKTJFJDCEDONFSKWMJECSDPGGTVUEHAQHESZSLDHEQUKY' + \\\n",
    "           'PNCQPIGTRKPMIQKPHEDZTHAOUAEZTAHETOSOYJENHKGDSTNGQLCVNRLVUJOZ'\n",
    "\n",
    "e = Enigma(rotors, offsets, rings, reflector, plugboard)\n",
    "output = e.encrypt(input)\n",
    "\n",
    "assert output == expected"
   ]
  },
  {
   "cell_type": "markdown",
   "metadata": {},
   "source": [
    "## Plugboard"
   ]
  },
  {
   "cell_type": "code",
   "execution_count": 14,
   "metadata": {},
   "outputs": [],
   "source": [
    "# basic test\n",
    "\n",
    "rotors = ['I', 'IV', 'III']\n",
    "offsets = [16, 22, 4]\n",
    "rings = [15, 25, 7]\n",
    "reflector = 'B'\n",
    "plugboard = 'AD CN ET FL GI JV KZ PU QY WX'\n",
    "\n",
    "input = 'ABCDEFGHIJKLMNOPQRSTUVWXYZAAAAABBBBBCCCCCDDDDD'\n",
    "expected = 'HGNHXNRKRIHFTUBOTQQOCCNIKMRYMLWCWVRHVLJWVPOOMS'\n",
    "\n",
    "e = Enigma(rotors, offsets, rings, reflector, plugboard)\n",
    "output = e.encrypt(input, verbose=False)\n",
    "\n",
    "assert output == expected"
   ]
  },
  {
   "cell_type": "markdown",
   "metadata": {},
   "source": [
    "## Decryption"
   ]
  },
  {
   "cell_type": "code",
   "execution_count": 15,
   "metadata": {},
   "outputs": [],
   "source": [
    "import numpy as np\n",
    "rng = np.random.default_rng()\n",
    "\n",
    "all_rotors = ['I', 'II', 'III', 'IV', 'V']\n",
    "\n",
    "for _ in range(1000):\n",
    "    rotors = list(rng.choice(all_rotors, 3, replace=False))\n",
    "    offset = list(rng.choice(26, 3, replace=False))\n",
    "    rings = list(rng.choice(26, 3, replace=False))\n",
    "    reflector = 'B'\n",
    "    plugboard = 'AD CN ET FL GI JV KZ PU QY WX'\n",
    "\n",
    "    input = ''.join(list(rng.choice(list('ABCDEFGHIJKLMNOPQRSTUVWXYZ'), 500)))\n",
    "\n",
    "    e = Enigma(rotors, offsets, rings, reflector, plugboard)\n",
    "    d = Enigma(rotors, offsets, rings, reflector, plugboard)\n",
    "    output = e.encrypt(input)\n",
    "\n",
    "    assert input == d.decrypt(output)\n"
   ]
  },
  {
   "cell_type": "code",
   "execution_count": null,
   "metadata": {},
   "outputs": [],
   "source": []
  },
  {
   "cell_type": "code",
   "execution_count": null,
   "metadata": {},
   "outputs": [],
   "source": []
  }
 ],
 "metadata": {
  "interpreter": {
   "hash": "40d3a090f54c6569ab1632332b64b2c03c39dcf918b08424e98f38b5ae0af88f"
  },
  "kernelspec": {
   "display_name": "Python 3.8.3 64-bit ('base': conda)",
   "language": "python",
   "name": "python3"
  },
  "language_info": {
   "codemirror_mode": {
    "name": "ipython",
    "version": 3
   },
   "file_extension": ".py",
   "mimetype": "text/x-python",
   "name": "python",
   "nbconvert_exporter": "python",
   "pygments_lexer": "ipython3",
   "version": "3.8.3"
  },
  "orig_nbformat": 4
 },
 "nbformat": 4,
 "nbformat_minor": 2
}
